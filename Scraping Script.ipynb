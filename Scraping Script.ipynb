{
 "cells": [
  {
   "cell_type": "markdown",
   "id": "4ef6512f",
   "metadata": {},
   "source": [
    "# Scraping Script"
   ]
  },
  {
   "cell_type": "markdown",
   "id": "bef884b0",
   "metadata": {},
   "source": [
    "## Import packages"
   ]
  },
  {
   "cell_type": "code",
   "execution_count": 22,
   "id": "6fff532a",
   "metadata": {},
   "outputs": [],
   "source": [
    "import pandas as pd\n",
    "import numpy as np\n",
    "from selenium import webdriver\n",
    "from selenium.webdriver.common.keys import Keys\n",
    "from selenium.webdriver.support.ui import Select\n",
    "from selenium.webdriver.chrome.service import Service\n",
    "import time"
   ]
  },
  {
   "cell_type": "markdown",
   "id": "ad6f6aed",
   "metadata": {},
   "source": [
    "## Specify Path"
   ]
  },
  {
   "cell_type": "code",
   "execution_count": 19,
   "id": "003f0423",
   "metadata": {},
   "outputs": [],
   "source": [
    "my_path = Service(r\"C:\\Users\\ritch\\Downloads\\chromedriver.exe\")\n",
    "driver = webdriver.Chrome(service = my_path)\n",
    "url = 'http://www.olympedia.org/results/19000437'"
   ]
  },
  {
   "cell_type": "code",
   "execution_count": 20,
   "id": "c68e46ec",
   "metadata": {},
   "outputs": [],
   "source": [
    "driver.get('http://www.olympedia.org/results/19000437')"
   ]
  },
  {
   "cell_type": "code",
   "execution_count": 39,
   "id": "b7bf27eb",
   "metadata": {},
   "outputs": [],
   "source": [
    "dfs = pd.read_html('http://www.olympedia.org/results/19000437',encoding='utf8')"
   ]
  },
  {
   "cell_type": "code",
   "execution_count": 40,
   "id": "384cf7ae",
   "metadata": {},
   "outputs": [
    {
     "name": "stdout",
     "output_type": "stream",
     "text": [
      "               Athlete  NOC     Time\n",
      "0       Eliud Kipchoge  KEN  2-08:38\n",
      "1         Abdi Nageeye  NED  2-09:58\n",
      "2          Bashir Abdi  BEL  2-10:00\n",
      "3     Lawrence Cherono  KEN  2-10:02\n",
      "4       Ayad Lamdassem  ESP  2-10:16\n",
      "..                 ...  ...      ...\n",
      "71          Cam Levins  CAN  2-28:43\n",
      "72        Yuma Hattori  JPN  2-30:08\n",
      "73   José Juan Esparza  MEX  2-31:51\n",
      "74  Jorge Castelblanco  PAN  2-33:22\n",
      "75          Iván Zarco  HON  2-44:36\n",
      "\n",
      "[76 rows x 3 columns]\n"
     ]
    }
   ],
   "source": [
    "dat_2021 = dfs[1]\n",
    "dat_2021_clean = dat_2021[dat_2021.Pos != \"AC\"][['Athlete', 'NOC', 'Time']]\n",
    "print(dat_2021_clean)"
   ]
  },
  {
   "cell_type": "code",
   "execution_count": null,
   "id": "41f34651",
   "metadata": {},
   "outputs": [],
   "source": []
  },
  {
   "cell_type": "code",
   "execution_count": null,
   "id": "5304b20a",
   "metadata": {},
   "outputs": [],
   "source": []
  },
  {
   "cell_type": "code",
   "execution_count": null,
   "id": "2a835503",
   "metadata": {},
   "outputs": [],
   "source": []
  },
  {
   "cell_type": "code",
   "execution_count": null,
   "id": "67e9b4da",
   "metadata": {},
   "outputs": [],
   "source": []
  },
  {
   "cell_type": "code",
   "execution_count": null,
   "id": "14f01eb7",
   "metadata": {},
   "outputs": [],
   "source": []
  },
  {
   "cell_type": "code",
   "execution_count": null,
   "id": "3ed5a333",
   "metadata": {},
   "outputs": [],
   "source": []
  }
 ],
 "metadata": {
  "kernelspec": {
   "display_name": "Python 3",
   "language": "python",
   "name": "python3"
  },
  "language_info": {
   "codemirror_mode": {
    "name": "ipython",
    "version": 3
   },
   "file_extension": ".py",
   "mimetype": "text/x-python",
   "name": "python",
   "nbconvert_exporter": "python",
   "pygments_lexer": "ipython3",
   "version": "3.8.8"
  }
 },
 "nbformat": 4,
 "nbformat_minor": 5
}
